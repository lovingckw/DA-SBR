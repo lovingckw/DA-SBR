{
 "cells": [
  {
   "cell_type": "markdown",
   "metadata": {},
   "source": [
    "   ### Link to: [Preprocesing](preprocessing.ipynb)     [Input](input.ipynb)     [Processing](processing.ipynb)     [Postprocessing](postprocessing.ipynb)\n",
    "\n",
    "        "
   ]
  },
  {
   "cell_type": "markdown",
   "metadata": {
    "toc": "true"
   },
   "source": [
    "# Processing\n",
    "\n",
    "## Table of Contents\n",
    "<div class=\"toc\" style=\"margin-top: 1em;\">\n",
    "   <ul class=\"toc-item\" id=\"toc-level0\">\n",
    "      <li><span><a href='#part 1' data-toc-modified-id=\"part 1\"><span class=\"toc-item-num\">1&nbsp;&nbsp;</span>part 1</a></span></li>\n",
    "      <li><span><a href='#part 2' data-toc-modified-id=\"part 2\"><span class=\"toc-item-num\">2&nbsp;&nbsp;</span>part 2</a></span></li>\n",
    "      <li><span><a href='#part 3' data-toc-modified-id=\"part 3\"><span class=\"toc-item-num\">3&nbsp;&nbsp;</span>part 3</a></span></li>\n",
    "      <li><span><a href='#part 4' data-toc-modified-id=\"part 4\"><span class=\"toc-item-num\">4&nbsp;&nbsp;</span>part 4</a></span></li>\n",
    "      <li><span><a href='#part 5' data-toc-modified-id=\"part 5\"><span class=\"toc-item-num\">5&nbsp;&nbsp;</span>part 5</a></span></li>\n",
    "   </ul>\n",
    "</div>\n",
    "\n",
    "\n"
   ]
  },
  {
   "cell_type": "markdown",
   "metadata": {},
   "source": [
    "# Part 1\n",
    "<a id='part 1'></a>"
   ]
  },
  {
   "cell_type": "code",
   "execution_count": null,
   "metadata": {
    "ExecuteTime": {
     "end_time": "2017-12-20T16:17:54.031667Z",
     "start_time": "2017-12-20T16:17:53.085498Z"
    }
   },
   "outputs": [],
   "source": [
    "library(rhdf5)\n",
    "library(RCurl) #for merge list\n",
    "library(xts)\n",
    "\n",
    "\n"
   ]
  },
  {
   "cell_type": "code",
   "execution_count": 1,
   "metadata": {
    "ExecuteTime": {
     "end_time": "2017-12-20T16:17:54.075842Z",
     "start_time": "2017-12-20T16:17:54.034840Z"
    }
   },
   "outputs": [
    {
     "ename": "SyntaxError",
     "evalue": "invalid syntax (<ipython-input-1-0d3618ef1590>, line 20)",
     "output_type": "error",
     "traceback": [
      "\u001b[1;36m  File \u001b[1;32m\"<ipython-input-1-0d3618ef1590>\"\u001b[1;36m, line \u001b[1;32m20\u001b[0m\n\u001b[1;33m    <a id='connect to database'></a>\u001b[0m\n\u001b[1;37m    ^\u001b[0m\n\u001b[1;31mSyntaxError\u001b[0m\u001b[1;31m:\u001b[0m invalid syntax\n"
     ]
    }
   ],
   "source": [
    "\n"
   ]
  },
  {
   "cell_type": "markdown",
   "metadata": {},
   "source": [
    "# Part 2\n",
    "<a id='part 2'></a>"
   ]
  },
  {
   "cell_type": "code",
   "execution_count": null,
   "metadata": {
    "ExecuteTime": {
     "end_time": "2017-12-20T16:17:54.186276Z",
     "start_time": "2017-12-20T16:17:54.078653Z"
    }
   },
   "outputs": [],
   "source": []
  },
  {
   "cell_type": "markdown",
   "metadata": {},
   "source": [
    "# Part 3\n",
    "<a id='part 3'></a>\n"
   ]
  },
  {
   "cell_type": "code",
   "execution_count": null,
   "metadata": {
    "ExecuteTime": {
     "end_time": "2017-12-20T16:17:54.225930Z",
     "start_time": "2017-12-20T16:17:54.188854Z"
    }
   },
   "outputs": [],
   "source": []
  },
  {
   "cell_type": "markdown",
   "metadata": {},
   "source": [
    "# Part 4\n",
    "<a id='part 4'></a>\n"
   ]
  },
  {
   "cell_type": "code",
   "execution_count": null,
   "metadata": {
    "ExecuteTime": {
     "end_time": "2017-12-20T16:17:54.313767Z",
     "start_time": "2017-12-20T16:17:54.229292Z"
    }
   },
   "outputs": [],
   "source": [
    "class ThreadManager:\n",
    "    def __call__(self, num_rows=5):\n",
    "        \"\"\"Returns the num_rows most recent threads (Default: 5)\"\"\"\n",
    "        # Update exec time if thread has yet to finish\n",
    "        for ix in self.thread_df.index:\n",
    "            if self.thread_df.loc[ix, 'finish_time'] == '':\n",
    "                start_time = self.thread_df.loc[ix, 'start_time']\n",
    "                time_elapsed = datetime.now() - start_time\n",
    "                \n",
    "                self.thread_df.loc[ix, 'exec_time'] = time_elapsed\n",
    "        return self.thread_df.tail(num_rows).iloc[::-1]\n",
    "    \n",
    "    def __init__(self):\n",
    "        df_cols = ['start_time', 'finish_time', 'exec_time',\n",
    "                   'cell_text', 'comment', 'error_message']\n",
    "        self.thread_df = pd.DataFrame(columns=df_cols)\n",
    "        \n",
    "    def _add_finish_times(self, thread_id):\n",
    "        \"\"\"Adds the finish time and exec time to thread_df.\n",
    "        \n",
    "        Returns: a tuple of finish time, exec time\n",
    "        \"\"\"\n",
    "        \n",
    "        # Set finish time\n",
    "        finish_time = datetime.now()\n",
    "        self.thread_df.loc[thread_id, 'finish_time'] = finish_time\n",
    "\n",
    "        # Set execution time\n",
    "        exec_time = finish_time - self.thread_df.loc[thread_id, 'start_time']\n",
    "        self.thread_df.loc[thread_id, 'exec_time'] = exec_time\n",
    "        \n",
    "        return finish_time, exec_time\n",
    "    \n",
    "    def get_error_threads(self):\n",
    "        \"\"\"Returns a DataFrame of threads which threw an error.\"\"\"\n",
    "        return self.thread_df[self.thread_df['error_message'] != '']\n",
    "    \n",
    "    def get_finished_threads(self):\n",
    "        \"\"\"Returns a DataFrame of the finished threads.\"\"\"\n",
    "        return self.thread_df[self.thread_df['finish_time'] != '']\n",
    "        \n",
    "    def get_next_thread_id(self):\n",
    "        \"\"\"Returns an integer representing the ID for the next thread.\"\"\"\n",
    "        return self.thread_df.shape[0]\n",
    "\n",
    "    def get_unfinished_threads(self):\n",
    "        \"\"\"Returns a DataFrame of the unfinished threads.\"\"\"\n",
    "        return self.thread_df[self.thread_df['finish_time'] == '']\n",
    "    \n",
    "    def add_thread(self, cell_text, comment='N/A', hide_output=False):\n",
    "        \"\"\"Adds a new background thread.\"\"\"\n",
    "        thread_id = self.get_next_thread_id()\n",
    "        start_time = datetime.now()\n",
    "        \n",
    "        self.thread_df.loc[thread_id] = [start_time, '', '', cell_text, comment, '']\n",
    "        if not hide_output:\n",
    "            print 'Started Thread {} at {}.\\nComment: {}'\\\n",
    "                .format(thread_id, start_time, comment)\n",
    "        \n",
    "    def finish_thread(self, thread_id, hide_output=False):\n",
    "        \"\"\"Completes a thread.\"\"\"\n",
    "        if self.thread_df.loc[thread_id, 'finish_time'] == '':\n",
    "            finish_time, exec_time = self._add_finish_times(thread_id)\n",
    "            \n",
    "            # Print comment\n",
    "            comment = str(self.thread_df.loc[thread_id, 'comment'])\n",
    "            if not hide_output:\n",
    "                print 'Finished Thread {} at {}.\\nDone in {}.\\nComment: {}'\\\n",
    "                    .format(thread_id, finish_time, exec_time, comment)\n",
    "                        \n",
    "        else:\n",
    "            raise Exception('Cannot finish an already completed thread.')\n",
    "        \n",
    "    def raise_thread_error(self, thread_id, error_message):\n",
    "        if self.thread_df.loc[thread_id, 'finish_time'] == '':\n",
    "            exception_message = 'Exception: {}'.format(error_message)\n",
    "            self._add_finish_times(thread_id)            \n",
    "            self.thread_df.loc[thread_id, 'error_message'] = exception_message\n",
    "        \n",
    "thread_manager = ThreadManager()"
   ]
  },
  {
   "cell_type": "markdown",
   "metadata": {
    "ExecuteTime": {
     "end_time": "2016-10-04T16:32:23.703993",
     "start_time": "2016-10-04T16:32:23.693514"
    }
   },
   "source": [
    "# Part 5\n",
    "<a id='part 5'></a>\n",
    "These functions allow us to type write and run raw SQL a cell with the magic function at the top."
   ]
  },
  {
   "cell_type": "code",
   "execution_count": null,
   "metadata": {
    "ExecuteTime": {
     "end_time": "2017-12-20T16:17:54.558920Z",
     "start_time": "2017-12-20T16:17:54.316514Z"
    },
    "code_folding": [
     92
    ]
   },
   "outputs": [],
   "source": [
    "@register_cell_magic\n",
    "def readsql(line, cell):\n",
    "    \"\"\"\n",
    "    Extract the code in the specific cell (should be valid SQL), and \n",
    "    execute it using the connection object to the backend  database.\n",
    "    The resulting pandas DataFrame is rendered inline  below the cell\n",
    "    using IPython.display. You'd use this for SELECT.\n",
    "    \n",
    "    Returns a DataFrame with the name specified in the magic function.\n",
    "    If this is not specified, then the DataFrame is called _df. This\n",
    "    also takes in an option \"-h\", followed by a number. This will show\n",
    "    only the specified number of rows in the DataFrame.\n",
    "    \"\"\"\n",
    "    \n",
    "    # Use the global connection object defined above.\n",
    "    global conn\n",
    "    optlist, args = getopt.getopt(line.split(), 'ih:')\n",
    "    optdict = dict(optlist) \n",
    "    # If '-h' tag is specified, set the number of rows to display\n",
    "    if '-h' in optdict:\n",
    "        head_num = int(optdict['-h'])\n",
    "    \n",
    "    # Do string formatting. If a PL/Python function\n",
    "    # is being created, then it should not try and\n",
    "    # format whatever is inside the function.\n",
    "    split_cell = cell.split('$')\n",
    "    if '-i' not in optdict:\n",
    "        if len(split_cell) > 1:\n",
    "            split_cell[0] = split_cell[0].format(**globals())\n",
    "            split_cell[-1] = split_cell[-1].format(**globals())\n",
    "            cell = '$'.join(split_cell)\n",
    "        elif len(split_cell) == 1:\n",
    "            cell = cell.format(**globals()) \n",
    "    \n",
    "    # If there is more than one table name specified,\n",
    "    # throw an exception.\n",
    "    if len(args) > 1:\n",
    "        raise Exception('More than one table name specified.')\n",
    "\n",
    "    elif len(args) == 1:\n",
    "        # If a table name is specified, store it as that\n",
    "        table_name = args[0]\n",
    "        globals()[table_name] = psql.read_sql(cell, conn)\n",
    "        if '-h' in optdict:\n",
    "            # If head_num is not 0, then display rows\n",
    "            if head_num != 0:\n",
    "                display(globals()[table_name].head(int(optdict['-h'])))\n",
    "        else:\n",
    "            display(globals()[table_name])\n",
    "\n",
    "    else:\n",
    "        # Otherwise, call it _df\n",
    "        global _df\n",
    "        _df = psql.read_sql(cell, conn)\n",
    "        if '-h' in optdict:\n",
    "            # If head_num is not 0, then display rows\n",
    "            if head_num != 0:\n",
    "                display(_df.head(head_num))\n",
    "        else:\n",
    "            display(_df)\n",
    "            \n",
    "    refresh_tables(conn)\n",
    "\n",
    "\n",
    "@register_cell_magic\n",
    "def execsql(line, cell):\n",
    "    \"\"\"\n",
    "    Extract the code in the specific cell (should be valid SQL), and\n",
    "    execute it using the connection object to the backend  database.\n",
    "    You'd use this for CREATE/UPDATE/DELETE.\n",
    "    \"\"\"\n",
    "    \n",
    "    # Use the global connection object defined above.\n",
    "    global conn\n",
    "    optlist, args = getopt.getopt(line.split(), 'ih:')\n",
    "    optdict = dict(optlist)\n",
    "    \n",
    "    # Do string formatting. If a PL/Python function\n",
    "    # is being created, then it should not try and\n",
    "    # format whatever is inside the function.\n",
    "    split_cell = cell.split('$')\n",
    "    if '-i' not in optdict:\n",
    "        if len(split_cell) > 1:\n",
    "            split_cell[0] = split_cell[0].format(**globals())\n",
    "            split_cell[-1] = split_cell[-1].format(**globals())\n",
    "            cell = '$'.join(split_cell)\n",
    "        elif len(split_cell) == 1:\n",
    "            cell = cell.format(**globals())\n",
    "    psql.execute(cell, conn)\n",
    "    refresh_tables(conn)\n",
    "\n",
    "\n",
    "@register_cell_magic\n",
    "def printsql(line, cell):\n",
    "    \"\"\"Show the SQL query that will be run.\"\"\"\n",
    "    \n",
    "    optlist, args = getopt.getopt(line.split(), 'ih:')\n",
    "    optdict = dict(optlist)\n",
    "    \n",
    "    # Do string formatting. If a PL/Python function\n",
    "    # is being created, then it should not try and\n",
    "    # format whatever is inside the function.\n",
    "    split_cell = cell.split('$')\n",
    "    if '-i' not in optdict:\n",
    "        if len(split_cell) > 1:\n",
    "            split_cell[0] = split_cell[0].format(**globals())\n",
    "            split_cell[-1] = split_cell[-1].format(**globals())\n",
    "            cell = '$'.join(split_cell)\n",
    "        elif len(split_cell) == 1:\n",
    "            cell = cell.format(**globals())\n",
    "    print cell\n",
    "\n",
    "\n",
    "@register_cell_magic\n",
    "def background(line, cell):\n",
    "    \"\"\"Runs whatever is in the cell in a separate thread. This allows\n",
    "    the user to run cells in the background so that additional cells\n",
    "    can be run concurrently. This will also micromanage by labelling \n",
    "    each thread with an ID number.\n",
    "    \n",
    "    Whatever follows after specifying '%%background' will be used as a\n",
    "    comment to label the process if the ID number is not descriptive\n",
    "    enough.\n",
    "    \"\"\"\n",
    "    \n",
    "    def is_useful_code(code):\n",
    "        \"\"\"Returns True if code is useful to use. Code that is\n",
    "        considered not useful is code that contains only commented\n",
    "        lines or empty lines.\n",
    "        \"\"\"\n",
    "\n",
    "        lines = code.split('\\n')\n",
    "\n",
    "        # For each line, check if line equals '' or starts with a '#'\n",
    "        return not np.all([line == '' or line[0] == '#' for line in lines])\n",
    "    \n",
    "    def run_cell(cell_value, line_value, thread_id, hide_output):\n",
    "        try:\n",
    "            exec cell_value in globals()\n",
    "        except Exception as error_message:\n",
    "            thread_manager.raise_thread_error(thread_id, error_message)\n",
    "            raise Exception(error_message)\n",
    "            \n",
    "        thread_manager.finish_thread(thread_id, hide_output)\n",
    "        \n",
    "    def get_thread_comment(line, sub_comment):\n",
    "        \"\"\"Gets the final thread comment by looking at the main comment\n",
    "        line and the sub-comments.\n",
    "        \"\"\"\n",
    "        \n",
    "        # Has main comment if the length of the line is greater than 0\n",
    "        # or if the line is not all spaces\n",
    "        has_main_comment = len(line) > 0 and not bool(re.match('^( )+$', line))\n",
    "        \n",
    "        # Has sub comment if it is not None and if it is not equal to\n",
    "        # the blank string (The regex will handle cases of all spaces)\n",
    "        has_sub_comment = sub_comment is not None and sub_comment != ''\n",
    "        \n",
    "        if has_main_comment:\n",
    "            if has_sub_comment:\n",
    "                return '{} - {}'.format(line, sub_comment)\n",
    "            else:\n",
    "                return line\n",
    "                \n",
    "        else:\n",
    "            if has_sub_comment:\n",
    "                return sub_comment\n",
    "            else:\n",
    "                return 'N/A'\n",
    "        \n",
    "    optlist, args = getopt.getopt(line.split(), 'h', ['hide'])\n",
    "    optdict = dict(optlist)\n",
    "    \n",
    "    hide_output = '-h' in optdict or '--hide' in optdict\n",
    "    # Join the arguments to form the line comment\n",
    "    line_comment = ' '.join(args)\n",
    "    \n",
    "    # Splits the code into separate threads by lines that start with\n",
    "    # two or more '#' characters. \n",
    "    cell_list = re.split('(?:^#{2,}|\\n#{2,}).*\\n', cell)\n",
    "    cell_list = [sub_cell\n",
    "                     for sub_cell in cell_list\n",
    "                         if is_useful_code(sub_cell)]\n",
    "    \n",
    "    # Find comment fields, which are defined by lines with two or more\n",
    "    # '#' characters, spaces, any character (except '#' and '\\n'), then\n",
    "    # a terminating '\\n'. Use non-capturing group to ignore '#'\n",
    "    # characters and spaces before the comment.\n",
    "    comment_list = re.findall('(?:^#{2,}|\\n#{2,})(?: )*([^#\\n]*)\\n', cell)\n",
    "\n",
    "    # If there is no break above the first one, comment list will be\n",
    "    # smaller than cell list, and it will be offset by one.\n",
    "    if len(comment_list) < len(cell_list):\n",
    "        comment_list.insert(0, None)\n",
    "        \n",
    "    for sub_cell, sub_comment in izip_longest(cell_list, comment_list):\n",
    "        thread_id = thread_manager.get_next_thread_id()\n",
    "\n",
    "        # Add thread to thread manager\n",
    "        thread_comment = get_thread_comment(line_comment, sub_comment)\n",
    "    \n",
    "        thread_manager.add_thread(cell_text=sub_cell,\n",
    "                                  comment=thread_comment,\n",
    "                                  hide_output=hide_output\n",
    "                                 )\n",
    "\n",
    "        # Run the thread in the background\n",
    "        thread = threading.Thread(target=run_cell,\n",
    "                                  args=(sub_cell, line_comment, thread_id,\n",
    "                                        hide_output)\n",
    "                                 )\n",
    "        thread.start()\n",
    "\n",
    "# We delete these to avoid name conflicts for automagic to work\n",
    "del execsql, readsql, printsql, background"
   ]
  }
 ],
 "metadata": {
  "anaconda-cloud": {},
  "hide_input": false,
  "kernelspec": {
   "display_name": "Python 3",
   "language": "python",
   "name": "python3"
  },
  "language_info": {
   "codemirror_mode": {
    "name": "ipython",
    "version": 3
   },
   "file_extension": ".py",
   "mimetype": "text/x-python",
   "name": "python",
   "nbconvert_exporter": "python",
   "pygments_lexer": "ipython3",
   "version": "3.6.4"
  },
  "nav_menu": {},
  "toc": {
   "nav_menu": {
    "height": "102px",
    "width": "252px"
   },
   "number_sections": true,
   "sideBar": true,
   "skip_h1_title": false,
   "toc_cell": true,
   "toc_position": {},
   "toc_section_display": "block",
   "toc_window_display": false
  },
  "toc_position": {
   "height": "982px",
   "left": "0px",
   "right": "auto",
   "top": "106px",
   "width": "212px"
  }
 },
 "nbformat": 4,
 "nbformat_minor": 1
}
