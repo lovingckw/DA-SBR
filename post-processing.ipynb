{
 "cells": [
  {
   "cell_type": "markdown",
   "metadata": {
    "toc": "true"
   },
   "source": [
    "## Table of Contents\n",
    "###  [1.Pre-Processing](pre-processing.ipynb)\n",
    "###  [2.Data Assimilation](Data Assimilation.ipynb)\n",
    "###  [3.Post-Processing](post-processing.ipynb)\n",
    "<div class=\"toc\" style=\"margin-top: 1em;\">\n",
    "   <ul class=\"toc-item\" id=\"toc-level0\">\n",
    "      <li><span><a href='#part 3.1' data-toc-modified-id=\"part 1\"><span class=\"toc-item-num\">&nbsp;&nbsp;</span>3.1 Plot estimated permeability over time</a></span></li>\n",
    "      <li><span><a href='#part 3.2' data-toc-modified-id=\"part 2\"><span class=\"toc-item-num\">&nbsp;&nbsp;</span>3.2 Calculate the vertical hydraulic exchange flux (HEF)</a></span></li>\n",
    "      <li><span><a href='#part 3.3' data-toc-modified-id=\"part 3\"><span class=\"toc-item-num\">&nbsp;&nbsp;</span>3.3 Compare the calculated HEF with that from temperature method</a></span></li>\n",
    "</div>\n",
    "\n",
    "\n",
    "\n"
   ]
  },
  {
   "cell_type": "markdown",
   "metadata": {},
   "source": [
    "<a id='part 3.1'></a>\n",
    "# 3.1 Plot estimated permeability over time\n"
   ]
  },
  {
   "cell_type": "code",
   "execution_count": null,
   "metadata": {
    "ExecuteTime": {
     "end_time": "2017-12-20T16:17:54.031667Z",
     "start_time": "2017-12-20T16:17:53.085498Z"
    }
   },
   "outputs": [],
   "source": [
    "load(paste(\"results/\",tail(system(\"ls -rt results/\",intern=TRUE),1),sep=\"\"))\n",
    "\n",
    "ntime = length(perm.ls)\n",
    "\n",
    "\n",
    "\n",
    "perm.ls = as.data.frame(perm.ls)\n",
    "perm.ls = log10(perm.ls*3600*24*9.81*1000*1000)\n",
    "colors = rainbow(nreaz)\n",
    "\n",
    "jpeg(paste(\"figures/perm.jpg\",sep=''),width=8,height=5,units='in',res=300,quality=100)\n",
    "par(mgp=c(1.8,0.6,0))\n",
    "plot((1:ntime),perm.ls[1,],type=\"l\",\n",
    "                                        #     ylim=range(perm.ls),\n",
    "     ylim = c(-5,5),\n",
    "     xlab=\"Time (hr)\",\n",
    "     ylab=\"Hydraulic conductivity (log10 m/d)\"\n",
    "     )\n",
    "for (ireaz in 1:nreaz)\n",
    "{\n",
    "    lines(1:ntime,perm.ls[ireaz,],type=\"l\",col=\"lightsalmon3\")\n",
    "\n",
    "}\n",
    "lines(1:ntime,as.numeric(colMeans(perm.ls)),lwd=2)\n",
    "## lines(1:length(ref.perm),ref.perm,col=\"blue\",lty=2,lwd=2)\n",
    "\n",
    "legend(\"topright\",\n",
    "       c(\"Mean\",\"Realizations\"),\n",
    "       col=c(\"black\",\"lightsalmon3\"),\n",
    "       lty=c(1,1),\n",
    "       bty=\"n\"\n",
    "       )\n",
    "dev.off()"
   ]
  },
  {
   "cell_type": "markdown",
   "metadata": {},
   "source": [
    "<a id='part 3.2'></a>\n",
    "# 3.2 Calculate the vertical hydraulic exchange flux (HEF)\n",
    "1. the vertical HEF is calculated by Darcy's law: HEF = hydraculic conductivity * hydraulic gradient\n"
   ]
  },
  {
   "cell_type": "code",
   "execution_count": null,
   "metadata": {
    "ExecuteTime": {
     "end_time": "2017-12-20T16:17:54.186276Z",
     "start_time": "2017-12-20T16:17:54.078653Z"
    }
   },
   "outputs": [],
   "source": [
    "hef = perm.ls*0.001/(3600*24*9.81*1000)*hg\n",
    "plot((1:ntime),hef[1,],type=\"l\",\n",
    "                                        \n",
    "     ylim = c(-5,5),\n",
    "     xlab=\"Time (hr)\",\n",
    "     ylab=\"HEF (m/d)\"\n",
    "     )"
   ]
  },
  {
   "cell_type": "markdown",
   "metadata": {},
   "source": [
    "<a id='part 3.3'></a>\n",
    "# 3.3 Compare the calculated HEF with that from temperature method\n",
    "1. The daily HEF can also be estimated by temperature data only using VFLUX 2 (Ivrine et al., 2015). The VFLUX 2 is writen in Matlab and will be incorporated into the tutorial later. \n"
   ]
  },
  {
   "cell_type": "code",
   "execution_count": null,
   "metadata": {},
   "outputs": [],
   "source": []
  }
 ],
 "metadata": {
  "anaconda-cloud": {},
  "hide_input": false,
  "kernelspec": {
   "display_name": "Python 3",
   "language": "python",
   "name": "python3"
  },
  "language_info": {
   "codemirror_mode": {
    "name": "ipython",
    "version": 3
   },
   "file_extension": ".py",
   "mimetype": "text/x-python",
   "name": "python",
   "nbconvert_exporter": "python",
   "pygments_lexer": "ipython3",
   "version": "3.6.3"
  },
  "nav_menu": {},
  "toc": {
   "nav_menu": {
    "height": "102px",
    "width": "252px"
   },
   "number_sections": true,
   "sideBar": true,
   "skip_h1_title": false,
   "toc_cell": true,
   "toc_position": {},
   "toc_section_display": "block",
   "toc_window_display": false
  },
  "toc_position": {
   "height": "982px",
   "left": "0px",
   "right": "auto",
   "top": "106px",
   "width": "212px"
  }
 },
 "nbformat": 4,
 "nbformat_minor": 1
}
