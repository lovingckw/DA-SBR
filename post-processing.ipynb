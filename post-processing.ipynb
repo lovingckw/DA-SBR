{
 "cells": [
  {
   "cell_type": "markdown",
   "metadata": {
    "toc": "true"
   },
   "source": [
    "## Table of Contents\n",
    "###  [1.Pre-Processing](pre-processing.ipynb)\n",
    "###  [2.Data Assimilation](Data Assimilation.ipynb)\n",
    "###  [3.Post-Processing](post-processing.ipynb)\n",
    "<div class=\"toc\" style=\"margin-top: 1em;\">\n",
    "   <ul class=\"toc-item\" id=\"toc-level0\">\n",
    "      <li><span><a href='#part 3.1' data-toc-modified-id=\"part 1\"><span class=\"toc-item-num\">&nbsp;&nbsp;</span>3.1 Plot hydraulic conductivity </a></span></li>\n",
    "      <li><span><a href='#part 3.2' data-toc-modified-id=\"part 2\"><span class=\"toc-item-num\">&nbsp;&nbsp;</span>3.2 Calculate the vertical hydraulic exchange flux (HEF)</a></span></li>\n",
    "      <li><span><a href='#part 3.3' data-toc-modified-id=\"part 3\"><span class=\"toc-item-num\">&nbsp;&nbsp;</span>3.3 Compare the calculated HEF with that from temperature method</a></span></li>\n",
    "</div>\n",
    "\n",
    "\n",
    "\n"
   ]
  },
  {
   "cell_type": "markdown",
   "metadata": {},
   "source": [
    "<a id='part 3.1'></a>\n",
    "# 3.1 Plot hydraulic conductivity \n",
    "1. Hydraulic conductivity near the riverbed is dynamic over time because upwelling and downwelling would change the sedimentary structure."
   ]
  },
  {
   "cell_type": "code",
   "execution_count": null,
   "metadata": {
    "ExecuteTime": {
     "end_time": "2017-12-20T16:17:54.031667Z",
     "start_time": "2017-12-20T16:17:53.085498Z"
    }
   },
   "outputs": [],
   "source": [
    "load(paste(\"results/\",tail(system(\"ls -rt results/\",intern=TRUE),1),sep=\"\"))\n",
    "\n",
    "ntime = length(perm.ls)\n",
    "\n",
    "\n",
    "\n",
    "perm.ls = as.data.frame(perm.ls)\n",
    "perm.ls = log10(perm.ls*3600*24*9.81*1000*1000)\n",
    "colors = rainbow(nreaz)\n",
    "\n",
    "jpeg(paste(\"figures/perm.jpg\",sep=''),width=8,height=5,units='in',res=300,quality=100)\n",
    "par(mgp=c(1.8,0.6,0))\n",
    "plot((1:ntime),perm.ls[1,],type=\"l\",\n",
    "                                        #     ylim=range(perm.ls),\n",
    "     ylim = c(-5,5),\n",
    "     xlab=\"Time (hr)\",\n",
    "     ylab=\"Hydraulic conductivity (log10 m/d)\"\n",
    "     )\n",
    "for (ireaz in 1:nreaz)\n",
    "{\n",
    "    lines(1:ntime,perm.ls[ireaz,],type=\"l\",col=\"lightsalmon3\")\n",
    "\n",
    "}\n",
    "lines(1:ntime,as.numeric(colMeans(perm.ls)),lwd=2)\n",
    "## lines(1:length(ref.perm),ref.perm,col=\"blue\",lty=2,lwd=2)\n",
    "\n",
    "legend(\"topright\",\n",
    "       c(\"Mean\",\"Realizations\"),\n",
    "       col=c(\"black\",\"lightsalmon3\"),\n",
    "       lty=c(1,1),\n",
    "       bty=\"n\"\n",
    "       )\n",
    "dev.off()\n"
   ]
  },
  {
   "cell_type": "markdown",
   "metadata": {},
   "source": [
    "![Estimated hydraulic conducivity](./Doc/temp/Picture4.jpg)\n"
   ]
  },
  {
   "cell_type": "markdown",
   "metadata": {},
   "source": [
    "<a id='part 3.2'></a>\n",
    "# 3.2 Plot the vertical hydraulic exchange flux (HEF)\n",
    "1. the vertical HEF is calculated by Darcy's law: HEF = hydraculic conductivity * hydraulic gradient\n"
   ]
  },
  {
   "cell_type": "code",
   "execution_count": null,
   "metadata": {
    "ExecuteTime": {
     "end_time": "2017-12-20T16:17:54.186276Z",
     "start_time": "2017-12-20T16:17:54.078653Z"
    }
   },
   "outputs": [],
   "source": [
    "rm(list=ls())\n",
    "load(\"/global/cscratch1/sd/xhsong/1d_flux/esmda/data/oneD_input.r\")\n",
    "#setwd(\"/global/cscratch1/sd/xhsong/1d_flux/esmda/3d/overall_iter_4_sd1/123\")\n",
    "load(\"results/flux.data.r\")\n",
    "\n",
    "\n",
    "oneD.time = oneD.time/3600  # change to mean\n",
    "oneD.vz = oneD.vz*24\n",
    "oneD.vy = oneD.vy*24\n",
    "oneD.vx = oneD.vx*24\n",
    "mean.oneD.vz = as.numeric(rowMeans(oneD.vz))\n",
    "mean.flux = as.numeric(colMeans(flux.data))\n",
    "\n",
    "oneD.cond = mean.oneD.vz/\n",
    "    ((oneD.head[,ncol(oneD.head)]-oneD.head[,1])/\n",
    "     abs(oneD.depth[ncol(oneD.head)]-oneD.depth[1]))\n",
    "\n",
    "jpeg(paste(\"figures/flux.jpg\",sep=''),width=8,height=5,units='in',res=300,quality=100)\n",
    "par(mgp=c(1.8,0.6,0))\n",
    "plot(output.times,\n",
    "     as.numeric(colMeans(flux.data)),\n",
    "     lwd=2,\n",
    "     type=\"l\",\n",
    "     col=\"red\",\n",
    "     ylim=c(-10,10),\n",
    "     ylab=\"Darcy flux (m/d)\",\n",
    "     xlab=\"Simulation time (hr)\"     \n",
    "     )\n",
    "for (ireaz in 1:nreaz)\n",
    "{\n",
    "    lines(output.times,flux.data[ireaz,],type=\"l\",col=\"lightsalmon3\")    \n",
    "}\n",
    "\n",
    "points(oneD.time,mean.oneD.vz,col=\"blue\",cex=0.5)\n",
    "lines(output.times,mean.flux,lwd=2,col=\"black\")\n",
    "legend(\"topleft\",\n",
    "       c(\"Reference\",\"Mean\",\"Realizations\"),\n",
    "       col=c(\"blue\",\"black\",\"lightsalmon3\"),\n",
    "       lty=c(NA,1,1),\n",
    "       pch=c(1,NA,NA),\n",
    "       bty=\"n\"\n",
    "       )\n",
    "dev.off()\n",
    "\n",
    "\n",
    "one2one.range = c(24*7,720-24)\n",
    "\n",
    "simu.one2one.index = which(output.times >= one2one.range[1] &\n",
    "                           output.times <= one2one.range[2] )\n",
    "oneD.one2one.index = which(oneD.time >= one2one.range[1] &\n",
    "                           oneD.time <= one2one.range[2] )\n",
    "\n",
    "\n",
    "\n",
    "\n",
    "jpeg(paste(\"figures/flux_vs.jpg\",sep=''),width=4.4,height=5,units='in',res=300,quality=100)\n",
    "par(mgp=c(1.8,0.6,0))\n",
    "smoothScatter(mean.oneD.vz[simu.one2one.index],mean.flux[simu.one2one.index],\n",
    "     col=\"black\",\n",
    "     ylim=c(-3,2),\n",
    "     xlim=c(-3,2),     \n",
    "     ylab=\"Assimilated Darcy flux (m/d)\",\n",
    "     xlab=\"Reference Darcy flux (m/d)\",\n",
    "     cex=0.5,\n",
    "     nrpoints=20,\n",
    "     pch=16,\n",
    "     asp=1,\n",
    "     )\n",
    "\n",
    "lines(-100:100,-100:100,lwd=2,col=\"red\")\n",
    "dev.off()\n",
    "\n",
    "\n",
    "load(paste(tail(system(\"ls -rt results/enkf*\",intern=TRUE),1),sep=\"\"))\n",
    "ntime = length(perm.ls)\n",
    "perm.ls = as.data.frame(perm.ls)\n",
    "perm.ls = log10(perm.ls*3600*24*9.81*1000*1000)\n",
    "mean.perm = as.numeric(colMeans(perm.ls))\n",
    "\n",
    "\n",
    "jpeg(paste(\"figures/perm.jpg\",sep=''),width=8,height=5,units='in',res=300,quality=100)\n",
    "par(mgp=c(1.8,0.6,0))\n",
    "plot(1:ntime,mean.perm,type=\"l\",\n",
    "     ylim = c(-1,3),\n",
    "     xlab=\"Time (hr)\",\n",
    "     ylab=\"Hydraulic conductivity (log10 m/d)\"\n",
    "     )\n",
    "for (ireaz in 1:nreaz)\n",
    "{\n",
    "    lines(1:ntime,perm.ls[ireaz,],type=\"l\",col=\"lightsalmon3\")\n",
    "}\n",
    "lines(1:ntime,mean.perm,lwd=2,col=\"black\")\n",
    "points(oneD.time,log10(oneD.cond),col=\"blue\",cex=0.5)\n",
    "\n",
    "legend(\"topleft\",\n",
    "       c(\"Reference\",\"Mean\",\"Realizations\"),\n",
    "       col=c(\"blue\",\"black\",\"lightsalmon3\"),\n",
    "       lty=c(NA,1,1),\n",
    "       pch=c(1,NA,NA),\n",
    "       bty=\"n\"\n",
    "       )\n",
    "dev.off()\n",
    "\n",
    "\n",
    "\n",
    "\n",
    "\n",
    "jpeg(paste(\"figures/perm_vs.jpg\",sep=''),width=4.4,height=5,units='in',res=300,quality=100)\n",
    "par(mgp=c(1.8,0.6,0))\n",
    "smoothScatter(log10(oneD.cond)[simu.one2one.index],mean.perm[simu.one2one.index],\n",
    "     col=\"black\",\n",
    "     ylim=c(1,1.8),\n",
    "     xlim=c(1,1.8),     \n",
    "     ylab=\"Assimilated Hydraulic conductivity (log10 m/d)\",\n",
    "     xlab=\"Reference Hydraulic conductivity (log10 m/d)\",\n",
    "     cex=0.5,\n",
    "     nrpoints=20,\n",
    "     pch=16,\n",
    "     asp=1,\n",
    "     )\n",
    "\n",
    "lines(-100:100,-100:100,lwd=2,col=\"red\")\n",
    "dev.off()\n"
   ]
  },
  {
   "cell_type": "markdown",
   "metadata": {},
   "source": [
    "![Estimated flux](./Doc/temp/Picture1.jpg)\n"
   ]
  },
  {
   "cell_type": "markdown",
   "metadata": {},
   "source": [
    "<a id='part 3.3'></a>\n",
    "# 3.3 Compare the calculated HEF with that from temperature method\n",
    "1. The daily HEF can also be estimated by temperature data only using VFLUX 2 (Ivrine et al., 2015). The VFLUX 2 is writen in Matlab and will be incorporated into the tutorial later. \n"
   ]
  },
  {
   "cell_type": "code",
   "execution_count": null,
   "metadata": {},
   "outputs": [],
   "source": []
  }
 ],
 "metadata": {
  "anaconda-cloud": {},
  "hide_input": false,
  "kernelspec": {
   "display_name": "Python 2",
   "language": "python",
   "name": "python2"
  },
  "language_info": {
   "codemirror_mode": {
    "name": "ipython",
    "version": 2
   },
   "file_extension": ".py",
   "mimetype": "text/x-python",
   "name": "python",
   "nbconvert_exporter": "python",
   "pygments_lexer": "ipython2",
   "version": "2.7.14"
  },
  "nav_menu": {},
  "toc": {
   "nav_menu": {
    "height": "102px",
    "width": "252px"
   },
   "number_sections": true,
   "sideBar": true,
   "skip_h1_title": false,
   "toc_cell": true,
   "toc_position": {},
   "toc_section_display": "block",
   "toc_window_display": false
  },
  "toc_position": {
   "height": "982px",
   "left": "0px",
   "right": "auto",
   "top": "106px",
   "width": "212px"
  }
 },
 "nbformat": 4,
 "nbformat_minor": 1
}
